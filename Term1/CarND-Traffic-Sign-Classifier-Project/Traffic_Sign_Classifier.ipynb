{
 "cells": [
  {
   "cell_type": "markdown",
   "metadata": {},
   "source": [
    "# Self-Driving Car Engineer Nanodegree\n",
    "\n",
    "## Deep Learning\n",
    "\n",
    "## Project: Build a Traffic Sign Recognition Classifier\n",
    "\n",
    "In this notebook, a template is provided for you to implement your functionality in stages, which is required to successfully complete this project. If additional code is required that cannot be included in the notebook, be sure that the Python code is successfully imported and included in your submission if necessary. \n",
    "\n",
    "> **Note**: Once you have completed all of the code implementations, you need to finalize your work by exporting the iPython Notebook as an HTML document. Before exporting the notebook to html, all of the code cells need to have been run so that reviewers can see the final implementation and output. You can then export the notebook by using the menu above and navigating to  \\n\",\n",
    "    \"**File -> Download as -> HTML (.html)**. Include the finished document along with this notebook as your submission. \n",
    "\n",
    "In addition to implementing code, there is a writeup to complete. The writeup should be completed in a separate file, which can be either a markdown file or a pdf document. There is a [write up template](https://github.com/udacity/CarND-Traffic-Sign-Classifier-Project/blob/master/writeup_template.md) that can be used to guide the writing process. Completing the code template and writeup template will cover all of the [rubric points](https://review.udacity.com/#!/rubrics/481/view) for this project.\n",
    "\n",
    "The [rubric](https://review.udacity.com/#!/rubrics/481/view) contains \"Stand Out Suggestions\" for enhancing the project beyond the minimum requirements. The stand out suggestions are optional. If you decide to pursue the \"stand out suggestions\", you can include the code in this Ipython notebook and also discuss the results in the writeup file.\n",
    "\n",
    "\n",
    ">**Note:** Code and Markdown cells can be executed using the **Shift + Enter** keyboard shortcut. In addition, Markdown cells can be edited by typically double-clicking the cell to enter edit mode."
   ]
  },
  {
   "cell_type": "markdown",
   "metadata": {},
   "source": [
    "---\n",
    "## Step 0: Load The Data"
   ]
  },
  {
   "cell_type": "code",
   "execution_count": 1,
   "metadata": {},
   "outputs": [],
   "source": [
    "# Load pickled data\n",
    "import pickle\n",
    "\n",
    "# TODO: Fill this in based on where you saved the training and testing data\n",
    "\n",
    "training_file = 'train.p'\n",
    "validation_file= 'valid.p'\n",
    "testing_file = 'test.p'\n",
    "\n",
    "with open(training_file, mode='rb') as f:\n",
    "    train = pickle.load(f)\n",
    "with open(validation_file, mode='rb') as f:\n",
    "    valid = pickle.load(f)\n",
    "with open(testing_file, mode='rb') as f:\n",
    "    test = pickle.load(f)\n",
    "    \n",
    "X_train, y_train = train['features'], train['labels']\n",
    "X_valid, y_valid = valid['features'], valid['labels']\n",
    "X_test, y_test = test['features'], test['labels']\n"
   ]
  },
  {
   "cell_type": "markdown",
   "metadata": {},
   "source": [
    "---\n",
    "\n",
    "## Step 1: Dataset Summary & Exploration\n",
    "\n",
    "The pickled data is a dictionary with 4 key/value pairs:\n",
    "\n",
    "- `'features'` is a 4D array containing raw pixel data of the traffic sign images, (num examples, width, height, channels).\n",
    "\n",
    "- `'labels'` is a 1D array containing the label/class id of the traffic sign. The file `signnames.csv` contains id -> name mappings for each id.\n",
    "- `'sizes'` is a list containing tuples, (width, height) representing the original width and height the image.\n",
    "- `'coords'` is a list containing tuples, (x1, y1, x2, y2) representing coordinates of a bounding box around the sign in the image. **THESE COORDINATES ASSUME THE ORIGINAL IMAGE. THE PICKLED DATA CONTAINS RESIZED VERSIONS (32 by 32) OF THESE IMAGES**\n",
    "\n",
    "Complete the basic data summary below. Use python, numpy and/or pandas methods to calculate the data summary rather than hard coding the results. For example, the [pandas shape method](http://pandas.pydata.org/pandas-docs/stable/generated/pandas.DataFrame.shape.html) might be useful for calculating some of the summary results. "
   ]
  },
  {
   "cell_type": "markdown",
   "metadata": {},
   "source": [
    "### Provide a Basic Summary of the Data Set Using Python, Numpy and/or Pandas"
   ]
  },
  {
   "cell_type": "code",
   "execution_count": 2,
   "metadata": {},
   "outputs": [
    {
     "name": "stdout",
     "output_type": "stream",
     "text": [
      "Number of training examples = 34799\n",
      "Number of validation examples = 4410\n",
      "Number of testing examples = 12630\n",
      "Image data shape = (32, 32, 3)\n",
      "Number of classes = 43\n"
     ]
    }
   ],
   "source": [
    "### Replace each question mark with the appropriate value. \n",
    "### Use python, pandas or numpy methods rather than hard coding the results\n",
    "import numpy as np\n",
    "import tensorflow as tf\n",
    "\n",
    "# TODO: Number of training examples\n",
    "n_train = len(X_train)\n",
    "\n",
    "# TODO: Number of validation examples\n",
    "n_validation = len(X_valid)\n",
    "\n",
    "# TODO: Number of testing examples.\n",
    "n_test = len(X_test)\n",
    "\n",
    "# TODO: What's the shape of an traffic sign image?\n",
    "image_shape = X_train[0].shape\n",
    "\n",
    "# TODO: How many unique classes/labels there are in the dataset.\n",
    "n_classes = len(np.unique(y_train))\n",
    "\n",
    "print(\"Number of training examples =\", n_train)\n",
    "print(\"Number of validation examples =\", n_validation)\n",
    "print(\"Number of testing examples =\", n_test)\n",
    "print(\"Image data shape =\", image_shape)\n",
    "print(\"Number of classes =\", n_classes)"
   ]
  },
  {
   "cell_type": "markdown",
   "metadata": {},
   "source": [
    "### Include an exploratory visualization of the dataset"
   ]
  },
  {
   "cell_type": "markdown",
   "metadata": {},
   "source": [
    "Visualize the German Traffic Signs Dataset using the pickled file(s). This is open ended, suggestions include: plotting traffic sign images, plotting the count of each sign, etc. \n",
    "\n",
    "The [Matplotlib](http://matplotlib.org/) [examples](http://matplotlib.org/examples/index.html) and [gallery](http://matplotlib.org/gallery.html) pages are a great resource for doing visualizations in Python.\n",
    "\n",
    "**NOTE:** It's recommended you start with something simple first. If you wish to do more, come back to it after you've completed the rest of the sections. It can be interesting to look at the distribution of classes in the training, validation and test set. Is the distribution the same? Are there more examples of some classes than others?"
   ]
  },
  {
   "cell_type": "code",
   "execution_count": 3,
   "metadata": {},
   "outputs": [
    {
     "name": "stdout",
     "output_type": "stream",
     "text": [
      "24\n"
     ]
    },
    {
     "data": {
      "image/png": "[encoded data removed]",
      "text/plain": [
       "<matplotlib.figure.Figure at 0x7f72a89f8128>"
      ]
     },
     "metadata": {},
     "output_type": "display_data"
    }
   ],
   "source": [
    "### Data exploration visualization code goes here.\n",
    "### Feel free to use as many code cells as needed.\n",
    "import random\n",
    "import matplotlib.pyplot as plt\n",
    "# Visualizations will be shown in the notebook.\n",
    "%matplotlib inline\n",
    "index = random.randint(0, len(X_train))\n",
    "image = X_train[index].squeeze()\n",
    "\n",
    "plt.figure(figsize=(1,1))\n",
    "plt.imshow(image)\n",
    "print(y_train[index])"
   ]
  },
  {
   "cell_type": "markdown",
   "metadata": {},
   "source": [
    "----\n",
    "\n",
    "## Step 2: Design and Test a Model Architecture\n",
    "\n",
    "Design and implement a deep learning model that learns to recognize traffic signs. Train and test your model on the [German Traffic Sign Dataset](http://benchmark.ini.rub.de/?section=gtsrb&subsection=dataset).\n",
    "\n",
    "The LeNet-5 implementation shown in the [classroom](https://classroom.udacity.com/nanodegrees/nd013/parts/fbf77062-5703-404e-b60c-95b78b2f3f9e/modules/6df7ae49-c61c-4bb2-a23e-6527e69209ec/lessons/601ae704-1035-4287-8b11-e2c2716217ad/concepts/d4aca031-508f-4e0b-b493-e7b706120f81) at the end of the CNN lesson is a solid starting point. You'll have to change the number of classes and possibly the preprocessing, but aside from that it's plug and play! \n",
    "\n",
    "With the LeNet-5 solution from the lecture, you should expect a validation set accuracy of about 0.89. To meet specifications, the validation set accuracy will need to be at least 0.93. It is possible to get an even higher accuracy, but 0.93 is the minimum for a successful project submission. \n",
    "\n",
    "There are various aspects to consider when thinking about this problem:\n",
    "\n",
    "- Neural network architecture (is the network over or underfitting?)\n",
    "- Play around preprocessing techniques (normalization, rgb to grayscale, etc)\n",
    "- Number of examples per label (some have more than others).\n",
    "- Generate fake data.\n",
    "\n",
    "Here is an example of a [published baseline model on this problem](http://yann.lecun.com/exdb/publis/pdf/sermanet-ijcnn-11.pdf). It's not required to be familiar with the approach used in the paper but, it's good practice to try to read papers like these."
   ]
  },
  {
   "cell_type": "markdown",
   "metadata": {},
   "source": [
    "### Pre-process the Data Set (normalization, grayscale, etc.)"
   ]
  },
  {
   "cell_type": "markdown",
   "metadata": {},
   "source": [
    "Minimally, the image data should be normalized so that the data has mean zero and equal variance. For image data, `(pixel - 128)/ 128` is a quick way to approximately normalize the data and can be used in this project. \n",
    "\n",
    "Other pre-processing steps are optional. You can try different techniques to see if it improves performance. \n",
    "\n",
    "Use the code cell (or multiple code cells, if necessary) to implement the first step of your project."
   ]
  },
  {
   "cell_type": "code",
   "execution_count": 4,
   "metadata": {},
   "outputs": [
    {
     "name": "stdout",
     "output_type": "stream",
     "text": [
      "X_train_gray shape = (34799, 32, 32)\n",
      "X_train_gray type = <class 'numpy.ndarray'>\n",
      "Min and Max values gary train dataset 3 255\n",
      "X_train_reshape shape = (34799, 32, 32, 1)\n",
      "X_train_normal shape = (34799, 32, 32, 1)\n",
      "X_train_normal type = <class 'numpy.ndarray'>\n",
      "Min and Max values normal train dataset 0.1 0.9\n"
     ]
    }
   ],
   "source": [
    "### Preprocess the data here. It is required to normalize the data. Other preprocessing steps could include \n",
    "### converting to grayscale, etc.\n",
    "### Feel free to use as many code cells as needed.\n",
    "import cv2\n",
    "\n",
    "X_train_gray = np.array([cv2.cvtColor(rgb_image, cv2.COLOR_RGB2GRAY) for rgb_image in X_train])\n",
    "X_valid_gray = np.array([cv2.cvtColor(rgb_image, cv2.COLOR_RGB2GRAY) for rgb_image in X_valid])\n",
    "#X_test_gray = np.array([cv2.cvtColor(rgb_image, cv2.COLOR_RGB2GRAY) for rgb_image in X_test])\n",
    "print(\"X_train_gray shape =\", X_train_gray.shape)\n",
    "print(\"X_train_gray type =\", type(X_train_gray))\n",
    "print(\"Min and Max values gary train dataset\", np.min(X_train_gray), np.max(X_train_gray))\n",
    "\n",
    "X_train_reshape = X_train_gray.reshape(-1, 32, 32, 1)\n",
    "X_valid_reshape = X_valid_gray.reshape(-1, 32, 32, 1)\n",
    "#X_test_reshape = X_test_gray.reshape(-1, 32, 32, 1)\n",
    "print(\"X_train_reshape shape =\", X_train_reshape.shape)\n",
    "\n",
    "X_train_normal = 0.1 + (X_train_reshape-X_train_reshape.min())*(0.8) / (X_train_reshape.max() - X_train_reshape.min()) \n",
    "X_valid_normal = 0.1 + (X_valid_reshape-X_valid_reshape.min())*(0.8) / (X_valid_reshape.max() - X_valid_reshape.min()) \n",
    "#X_test_normal = 0.1 + (X_test_reshape-X_test_reshape.min())*(0.8) / (X_test_reshape.max() - X_test_reshape.min()) \n",
    "print(\"X_train_normal shape =\", X_train_normal.shape)\n",
    "print(\"X_train_normal type =\", type(X_train_normal))\n",
    "print(\"Min and Max values normal train dataset\", np.min(X_train_normal), np.max(X_train_normal))"
   ]
  },
  {
   "cell_type": "markdown",
   "metadata": {},
   "source": [
    "### Model Architecture"
   ]
  },
  {
   "cell_type": "code",
   "execution_count": 5,
   "metadata": {},
   "outputs": [],
   "source": [
    "### Define your architecture here.\n",
    "### Feel free to use as many code cells as needed.\n",
    "from tensorflow.contrib.layers import flatten\n",
    "\n",
    "def LeNet(x, keep_prob):    \n",
    "    # Arguments used for tf.truncated_normal, randomly defines variables for the weights and biases for each layer\n",
    "    mu = 0\n",
    "    sigma = 0.1\n",
    "    \n",
    "    ############################################ LAYER-1 ##################################################\n",
    "    # TODO: Layer 1: Convolutional. Input = 32x32x1. Output = 28x28x6.\n",
    "    layer_1_W = tf.Variable(tf.truncated_normal(shape=(5,5,1,6), mean=mu, stddev=sigma))\n",
    "    layer_1_b = tf.Variable(tf.zeros(6))\n",
    "    layer_1_conv = tf.add(tf.nn.conv2d(x, layer_1_W, strides=[1,1,1,1], padding='VALID'), layer_1_b) \n",
    "    \n",
    "    # TODO: Activation.\n",
    "    layer_1_act = tf.nn.relu(layer_1_conv)\n",
    "    \n",
    "    # TODO: Pooling. Input = 28x28x6. Output = 14x14x6.\n",
    "    layer_1_pooling = tf.nn.max_pool(layer_1_act, ksize=[1,2,2,1], strides=[1,2,2,1], padding='VALID')\n",
    "    \n",
    "    ############################################ LAYER-2 ##################################################\n",
    "    # TODO: Layer 2: Convolutional. Output = 10x10x16.\n",
    "    layer_2_W = tf.Variable(tf.truncated_normal(shape=(5,5,6,16), mean=mu, stddev=sigma))\n",
    "    layer_2_b = tf.Variable(tf.zeros(16))\n",
    "    layer_2_conv = tf.add(tf.nn.conv2d(layer_1_pooling, layer_2_W, strides=[1,1,1,1], padding='VALID'), layer_2_b) \n",
    "    \n",
    "    # TODO: Activation.\n",
    "    layer_2_act = tf.nn.relu(layer_2_conv)\n",
    "    \n",
    "    # TODO: Pooling. Input = 10x10x16. Output = 5x5x16.\n",
    "    layer_2_pooling = tf.nn.max_pool(layer_2_act, ksize=[1,2,2,1], strides=[1,2,2,1], padding='VALID')\n",
    "    \n",
    "    ############################################ LAYER-* ##################################################\n",
    "    # TODO: Flatten. Input = 5x5x16. Output = 400.\n",
    "    layer_flatten = flatten(layer_2_pooling)\n",
    "    \n",
    "    ############################################ LAYER-3 ##################################################\n",
    "    # TODO: Layer 3: Fully Connected. Input = 400. Output = 120.\n",
    "    layer_3_W = tf.Variable(tf.truncated_normal(shape=(400, 120), mean=mu, stddev=sigma))\n",
    "    layer_3_b = tf.Variable(tf.zeros(120))\n",
    "    layer_3_fulcon = tf.add(tf.matmul(layer_flatten, layer_3_W), layer_3_b) \n",
    "    \n",
    "    # TODO: Activation.\n",
    "    layer_3_act = tf.nn.relu(layer_3_fulcon)\n",
    "    \n",
    "    # TODO: Dropout\n",
    "    layer_3_drp = tf.nn.dropout(layer_3_act, keep_prob)\n",
    "    #layer_3_drp = layer_3_drp/keep_prob \n",
    "    \n",
    "    ############################################ LAYER-4 ##################################################\n",
    "    # TODO: Layer 4: Fully Connected. Input = 120. Output = 84.\n",
    "    layer_4_W = tf.Variable(tf.truncated_normal(shape=(120, 84), mean=mu, stddev=sigma))\n",
    "    layer_4_b = tf.Variable(tf.zeros(84))\n",
    "    layer_4_fulcon = tf.add(tf.matmul(layer_3_drp, layer_4_W), layer_4_b) \n",
    "    \n",
    "    # TODO: Activation.\n",
    "    layer_4_act = tf.nn.relu(layer_4_fulcon)\n",
    "    \n",
    "    # TODO: Dropout\n",
    "    layer_4_drp = tf.nn.dropout(layer_4_act, keep_prob)\n",
    "    #layer_4_drp = layer_4_drp/keep_prob \n",
    "    \n",
    "    ############################################ LAYER-5 ##################################################\n",
    "    # TODO: Layer 5: Fully Connected. Input = 84. Output = 43.\n",
    "    layer_5_W = tf.Variable(tf.truncated_normal(shape=(84, 43), mean=mu, stddev=sigma))\n",
    "    layer_5_b = tf.Variable(tf.zeros(43))\n",
    "    logits = tf.add(tf.matmul(layer_4_drp, layer_5_W), layer_5_b) \n",
    "    return logits"
   ]
  },
  {
   "cell_type": "markdown",
   "metadata": {},
   "source": [
    "### Train, Validate and Test the Model"
   ]
  },
  {
   "cell_type": "markdown",
   "metadata": {},
   "source": [
    "A validation set can be used to assess how well the model is performing. A low accuracy on the training and validation\n",
    "sets imply underfitting. A high accuracy on the training set but low accuracy on the validation set implies overfitting."
   ]
  },
  {
   "cell_type": "code",
   "execution_count": 6,
   "metadata": {
    "scrolled": true
   },
   "outputs": [
    {
     "name": "stdout",
     "output_type": "stream",
     "text": [
      "Training...\n",
      "\n",
      "EPOCH 1 ...\n",
      "Training Accuracy = 0.270\n",
      "Validation Accuracy = 0.246\n",
      "\n",
      "EPOCH 2 ...\n",
      "Training Accuracy = 0.606\n",
      "Validation Accuracy = 0.543\n",
      "\n",
      "EPOCH 3 ...\n",
      "Training Accuracy = 0.746\n",
      "Validation Accuracy = 0.701\n",
      "\n",
      "EPOCH 4 ...\n",
      "Training Accuracy = 0.833\n",
      "Validation Accuracy = 0.780\n",
      "\n",
      "EPOCH 5 ...\n",
      "Training Accuracy = 0.881\n",
      "Validation Accuracy = 0.839\n",
      "\n",
      "EPOCH 6 ...\n",
      "Training Accuracy = 0.897\n",
      "Validation Accuracy = 0.853\n",
      "\n",
      "EPOCH 7 ...\n",
      "Training Accuracy = 0.913\n",
      "Validation Accuracy = 0.864\n",
      "\n",
      "EPOCH 8 ...\n",
      "Training Accuracy = 0.926\n",
      "Validation Accuracy = 0.888\n",
      "\n",
      "EPOCH 9 ...\n",
      "Training Accuracy = 0.934\n",
      "Validation Accuracy = 0.893\n",
      "\n",
      "EPOCH 10 ...\n",
      "Training Accuracy = 0.940\n",
      "Validation Accuracy = 0.893\n",
      "\n",
      "EPOCH 11 ...\n",
      "Training Accuracy = 0.949\n",
      "Validation Accuracy = 0.905\n",
      "\n",
      "EPOCH 12 ...\n",
      "Training Accuracy = 0.952\n",
      "Validation Accuracy = 0.901\n",
      "\n",
      "EPOCH 13 ...\n",
      "Training Accuracy = 0.958\n",
      "Validation Accuracy = 0.907\n",
      "\n",
      "EPOCH 14 ...\n",
      "Training Accuracy = 0.962\n",
      "Validation Accuracy = 0.913\n",
      "\n",
      "EPOCH 15 ...\n",
      "Training Accuracy = 0.967\n",
      "Validation Accuracy = 0.921\n",
      "\n",
      "EPOCH 16 ...\n",
      "Training Accuracy = 0.969\n",
      "Validation Accuracy = 0.926\n",
      "\n",
      "EPOCH 17 ...\n",
      "Training Accuracy = 0.975\n",
      "Validation Accuracy = 0.933\n",
      "\n",
      "EPOCH 18 ...\n",
      "Training Accuracy = 0.975\n",
      "Validation Accuracy = 0.931\n",
      "\n",
      "EPOCH 19 ...\n",
      "Training Accuracy = 0.971\n",
      "Validation Accuracy = 0.934\n",
      "\n",
      "EPOCH 20 ...\n",
      "Training Accuracy = 0.980\n",
      "Validation Accuracy = 0.943\n",
      "\n",
      "EPOCH 21 ...\n",
      "Training Accuracy = 0.979\n",
      "Validation Accuracy = 0.939\n",
      "\n",
      "EPOCH 22 ...\n",
      "Training Accuracy = 0.983\n",
      "Validation Accuracy = 0.949\n",
      "\n",
      "EPOCH 23 ...\n",
      "Training Accuracy = 0.978\n",
      "Validation Accuracy = 0.939\n",
      "\n",
      "EPOCH 24 ...\n",
      "Training Accuracy = 0.985\n",
      "Validation Accuracy = 0.952\n",
      "\n",
      "EPOCH 25 ...\n",
      "Training Accuracy = 0.986\n",
      "Validation Accuracy = 0.951\n",
      "\n",
      "EPOCH 26 ...\n",
      "Training Accuracy = 0.987\n",
      "Validation Accuracy = 0.950\n",
      "\n",
      "EPOCH 27 ...\n",
      "Training Accuracy = 0.987\n",
      "Validation Accuracy = 0.950\n",
      "\n",
      "EPOCH 28 ...\n",
      "Training Accuracy = 0.988\n",
      "Validation Accuracy = 0.952\n",
      "\n",
      "EPOCH 29 ...\n",
      "Training Accuracy = 0.989\n",
      "Validation Accuracy = 0.953\n",
      "\n",
      "EPOCH 30 ...\n",
      "Training Accuracy = 0.989\n",
      "Validation Accuracy = 0.954\n",
      "\n",
      "Model saved\n"
     ]
    }
   ],
   "source": [
    "### Train your model here.\n",
    "### Calculate and report the accuracy on the training and validation set.\n",
    "### Once a final model architecture is selected, \n",
    "### the accuracy on the test set should be calculated and reported as well.\n",
    "### Feel free to use as many code cells as needed.\n",
    "from sklearn.utils import shuffle\n",
    "\n",
    "x = tf.placeholder(tf.float32, (None, 32, 32, 1))\n",
    "y = tf.placeholder(tf.int32, (None))\n",
    "keep_prob = tf.placeholder(tf.float32)\n",
    "one_hot_y = tf.one_hot(y, 43)\n",
    "\n",
    "EPOCHS = 30\n",
    "BATCH_SIZE = 200\n",
    "LEARN_RATE = 0.001\n",
    "\n",
    "logits = LeNet(x, keep_prob)\n",
    "cross_entropy = tf.nn.softmax_cross_entropy_with_logits(labels=one_hot_y, logits=logits)\n",
    "loss_operation = tf.reduce_mean(cross_entropy)\n",
    "optimizer = tf.train.AdamOptimizer(learning_rate = LEARN_RATE)\n",
    "training_operation = optimizer.minimize(loss_operation)\n",
    "\n",
    "correct_prediction = tf.equal(tf.argmax(logits, 1), tf.argmax(one_hot_y, 1))\n",
    "accuracy_operation = tf.reduce_mean(tf.cast(correct_prediction, tf.float32))\n",
    "saver = tf.train.Saver()\n",
    "\n",
    "def evaluate(X_data, y_data):\n",
    "    num_examples = len(X_data)\n",
    "    total_accuracy = 0\n",
    "    sess = tf.get_default_session()\n",
    "    for offset in range(0, num_examples, BATCH_SIZE):\n",
    "        batch_x, batch_y = X_data[offset:offset+BATCH_SIZE], y_data[offset:offset+BATCH_SIZE]\n",
    "        accuracy = sess.run(accuracy_operation, feed_dict={x: batch_x, y: batch_y, keep_prob: 1.0})\n",
    "        total_accuracy += (accuracy * len(batch_x))\n",
    "    return total_accuracy / num_examples\n",
    "\n",
    "with tf.Session() as sess:\n",
    "    sess.run(tf.global_variables_initializer())\n",
    "    num_examples = len(X_train)\n",
    "    \n",
    "    print(\"Training...\")\n",
    "    print()\n",
    "    for i in range(EPOCHS):\n",
    "        X_train_normal, y_train = shuffle(X_train_normal, y_train)\n",
    "        for offset in range(0, num_examples, BATCH_SIZE):\n",
    "            end = offset + BATCH_SIZE\n",
    "            batch_x, batch_y = X_train_normal[offset:end], y_train[offset:end]\n",
    "            sess.run(training_operation, feed_dict={x: batch_x, y: batch_y, keep_prob: 0.5})\n",
    "            \n",
    "        train_accuracy = evaluate(X_train_normal, y_train)    \n",
    "        validation_accuracy = evaluate(X_valid_normal, y_valid)\n",
    "        print(\"EPOCH {} ...\".format(i+1))\n",
    "        print(\"Training Accuracy = {:.3f}\".format(train_accuracy))\n",
    "        print(\"Validation Accuracy = {:.3f}\".format(validation_accuracy))\n",
    "        print()\n",
    "        \n",
    "    saver.save(sess, './lenet')\n",
    "    print(\"Model saved\")\n",
    "    \n"
   ]
  },
  {
   "cell_type": "markdown",
   "metadata": {},
   "source": [
    "---\n",
    "\n",
    "## Step 3: Test a Model on New Images\n",
    "\n",
    "To give yourself more insight into how your model is working, download at least five pictures of German traffic signs from the web and use your model to predict the traffic sign type.\n",
    "\n",
    "You may find `signnames.csv` useful as it contains mappings from the class id (integer) to the actual sign name."
   ]
  },
  {
   "cell_type": "markdown",
   "metadata": {},
   "source": [
    "### Load and Output the Images"
   ]
  },
  {
   "cell_type": "code",
   "execution_count": 7,
   "metadata": {},
   "outputs": [
    {
     "data": {
      "image/png": "[encoded data removed]",
      "text/plain": [
       "<matplotlib.figure.Figure at 0x7f7249ecb9e8>"
      ]
     },
     "metadata": {},
     "output_type": "display_data"
    },
    {
     "data": {
      "image/png": "[encoded data removed]",
      "text/plain": [
       "<matplotlib.figure.Figure at 0x7f72a926c9b0>"
      ]
     },
     "metadata": {},
     "output_type": "display_data"
    },
    {
     "data": {
      "image/png": "[encoded data removed]",
      "text/plain": [
       "<matplotlib.figure.Figure at 0x7f7238763e10>"
      ]
     },
     "metadata": {},
     "output_type": "display_data"
    },
    {
     "data": {
      "image/png": "[encoded data removed]",
      "text/plain": [
       "<matplotlib.figure.Figure at 0x7f723867eac8>"
      ]
     },
     "metadata": {},
     "output_type": "display_data"
    },
    {
     "data": {
      "image/png": "[encoded data removed]",
      "text/plain": [
       "<matplotlib.figure.Figure at 0x7f72386e46d8>"
      ]
     },
     "metadata": {},
     "output_type": "display_data"
    }
   ],
   "source": [
    "### Load the images and plot them here.\n",
    "### Feel free to use as many code cells as needed.\n",
    "X_test_sel = []\n",
    "y_test_sel = []\n",
    "%matplotlib inline\n",
    "for counter in range(5):\n",
    "    image_index = random.randint(0, len(X_test))\n",
    "    X_test_sel.append(X_test[image_index])\n",
    "    y_test_sel.append(y_test[image_index])\n",
    "    image = X_test[index].squeeze()\n",
    "    plt.figure(figsize=(1,1))\n",
    "    plt.imshow(image)\n",
    "    plt.title(\"iamge lable: {}\".format(y_test[image_index]))\n",
    "    plt.axis('off')\n",
    "    plt.show()"
   ]
  },
  {
   "cell_type": "markdown",
   "metadata": {},
   "source": [
    "### Predict the Sign Type for Each Image"
   ]
  },
  {
   "cell_type": "code",
   "execution_count": 8,
   "metadata": {},
   "outputs": [
    {
     "name": "stdout",
     "output_type": "stream",
     "text": [
      "X_test_gray shape = (5, 32, 32)\n",
      "X_test_gray type = <class 'numpy.ndarray'>\n",
      "Min and Max values gary test dataset 12 179\n",
      "X_test_reshape shape = (5, 32, 32, 1)\n",
      "X_test_normal shape = (5, 32, 32, 1)\n",
      "X_test_normal type = <class 'numpy.ndarray'>\n",
      "Min and Max values normal test dataset 0.1 0.9\n"
     ]
    }
   ],
   "source": [
    "### Run the predictions here and use the model to output the prediction for each image.\n",
    "### Make sure to pre-process the images with the same pre-processing pipeline used earlier.\n",
    "### Feel free to use as many code cells as needed.\n",
    "X_test_gray = np.array([cv2.cvtColor(rgb_image, cv2.COLOR_RGB2GRAY) for rgb_image in X_test_sel])\n",
    "print(\"X_test_gray shape =\", X_test_gray.shape)\n",
    "print(\"X_test_gray type =\", type(X_test_gray))\n",
    "print(\"Min and Max values gary test dataset\", np.min(X_test_gray), np.max(X_test_gray))\n",
    "\n",
    "X_test_reshape = X_test_gray.reshape(-1, 32, 32, 1)\n",
    "print(\"X_test_reshape shape =\", X_test_reshape.shape)\n",
    "\n",
    "X_test_normal = 0.1 + (X_test_reshape-X_test_reshape.min())*(0.8) / (X_test_reshape.max() - X_test_reshape.min()) \n",
    "print(\"X_test_normal shape =\", X_test_normal.shape)\n",
    "print(\"X_test_normal type =\", type(X_test_normal))\n",
    "print(\"Min and Max values normal test dataset\", np.min(X_test_normal), np.max(X_test_normal))"
   ]
  },
  {
   "cell_type": "markdown",
   "metadata": {},
   "source": [
    "### Analyze Performance"
   ]
  },
  {
   "cell_type": "code",
   "execution_count": 9,
   "metadata": {},
   "outputs": [
    {
     "name": "stdout",
     "output_type": "stream",
     "text": [
      "Test Accuracy = 1.000\n"
     ]
    }
   ],
   "source": [
    "### Calculate the accuracy for these 5 new images. \n",
    "### For example, if the model predicted 1 out of 5 signs correctly, it's 20% accurate on these new images.\n",
    "with tf.Session() as sess:\n",
    "    saver.restore(sess, tf.train.latest_checkpoint('.'))\n",
    "    test_accuracy = evaluate(X_test_normal, y_test_sel)\n",
    "    print(\"Test Accuracy = {:.3f}\".format(test_accuracy))"
   ]
  },
  {
   "cell_type": "markdown",
   "metadata": {},
   "source": [
    "### Output Top 5 Softmax Probabilities For Each Image Found on the Web"
   ]
  },
  {
   "cell_type": "markdown",
   "metadata": {},
   "source": [
    "For each of the new images, print out the model's softmax probabilities to show the **certainty** of the model's predictions (limit the output to the top 5 probabilities for each image). [`tf.nn.top_k`](https://www.tensorflow.org/versions/r0.12/api_docs/python/nn.html#top_k) could prove helpful here. \n",
    "\n",
    "The example below demonstrates how tf.nn.top_k can be used to find the top k predictions for each image.\n",
    "\n",
    "`tf.nn.top_k` will return the values and indices (class ids) of the top k predictions. So if k=3, for each sign, it'll return the 3 largest probabilities (out of a possible 43) and the correspoding class ids.\n",
    "\n",
    "Take this numpy array as an example. The values in the array represent predictions. The array contains softmax probabilities for five candidate images with six possible classes. `tf.nn.top_k` is used to choose the three classes with the highest probability:\n",
    "\n",
    "```\n",
    "# (5, 6) array\n",
    "a = np.array([[ 0.24879643,  0.07032244,  0.12641572,  0.34763842,  0.07893497,\n",
    "         0.12789202],\n",
    "       [ 0.28086119,  0.27569815,  0.08594638,  0.0178669 ,  0.18063401,\n",
    "         0.15899337],\n",
    "       [ 0.26076848,  0.23664738,  0.08020603,  0.07001922,  0.1134371 ,\n",
    "         0.23892179],\n",
    "       [ 0.11943333,  0.29198961,  0.02605103,  0.26234032,  0.1351348 ,\n",
    "         0.16505091],\n",
    "       [ 0.09561176,  0.34396535,  0.0643941 ,  0.16240774,  0.24206137,\n",
    "         0.09155967]])\n",
    "```\n",
    "\n",
    "Running it through `sess.run(tf.nn.top_k(tf.constant(a), k=3))` produces:\n",
    "\n",
    "```\n",
    "TopKV2(values=array([[ 0.34763842,  0.24879643,  0.12789202],\n",
    "       [ 0.28086119,  0.27569815,  0.18063401],\n",
    "       [ 0.26076848,  0.23892179,  0.23664738],\n",
    "       [ 0.29198961,  0.26234032,  0.16505091],\n",
    "       [ 0.34396535,  0.24206137,  0.16240774]]), indices=array([[3, 0, 5],\n",
    "       [0, 1, 4],\n",
    "       [0, 5, 1],\n",
    "       [1, 3, 5],\n",
    "       [1, 4, 3]], dtype=int32))\n",
    "```\n",
    "\n",
    "Looking just at the first row we get `[ 0.34763842,  0.24879643,  0.12789202]`, you can confirm these are the 3 largest probabilities in `a`. You'll also notice `[3, 0, 5]` are the corresponding indices."
   ]
  },
  {
   "cell_type": "code",
   "execution_count": 14,
   "metadata": {},
   "outputs": [
    {
     "name": "stdout",
     "output_type": "stream",
     "text": [
      "[[  0.00000000e+00   2.79662654e-26   3.08995087e-29   1.48394896e-30\n",
      "    1.25339164e-37   2.54428556e-29   1.96052511e-33   1.01678609e-16\n",
      "    1.22481400e-23   6.79469366e-14   2.84620668e-28   9.50903853e-23\n",
      "    1.00000000e+00   1.38664019e-18   3.67106082e-36   2.66326333e-17\n",
      "    6.93740310e-23   5.00512529e-22   8.29802023e-29   0.00000000e+00\n",
      "    7.27309717e-34   1.54038590e-31   0.00000000e+00   0.00000000e+00\n",
      "    0.00000000e+00   5.00079183e-30   6.61841361e-20   0.00000000e+00\n",
      "    3.26913179e-30   7.36180612e-34   3.92251422e-24   0.00000000e+00\n",
      "    2.52589391e-20   1.22556086e-32   1.05243677e-32   1.12473340e-30\n",
      "    4.77299117e-37   7.15295989e-36   3.72500736e-27   3.18619595e-32\n",
      "    2.80126264e-13   2.66375980e-18   3.82479610e-26]\n",
      " [  4.03248611e-25   1.34164143e-15   1.94849484e-11   5.40393000e-18\n",
      "    6.91677311e-17   9.15529284e-12   5.07872445e-28   9.99944687e-01\n",
      "    5.53515674e-05   6.27767784e-22   1.16881175e-17   2.92269047e-29\n",
      "    8.46291407e-13   5.88652460e-21   3.71936323e-27   2.86450562e-17\n",
      "    3.73310927e-19   1.40268126e-28   6.00227493e-31   2.68949699e-32\n",
      "    5.39617394e-37   9.17699781e-29   0.00000000e+00   4.15118410e-33\n",
      "    0.00000000e+00   2.98591188e-36   8.00959164e-32   0.00000000e+00\n",
      "    7.31878257e-34   1.31044905e-35   1.63657797e-33   7.51716111e-27\n",
      "    1.77568551e-22   1.59455278e-29   3.31813688e-38   5.81316193e-33\n",
      "    0.00000000e+00   6.90635335e-26   7.83076533e-25   4.60091953e-27\n",
      "    3.81316333e-11   3.53913578e-32   7.42916611e-25]\n",
      " [  5.98855139e-17   1.03981275e-10   1.86815231e-13   4.69739427e-13\n",
      "    1.95314068e-17   2.91513549e-11   9.60075075e-11   3.48181902e-06\n",
      "    1.68373135e-10   6.92183960e-07   9.97366634e-11   1.67218829e-07\n",
      "    9.99510288e-01   4.15440266e-10   4.93532323e-16   1.05834153e-09\n",
      "    1.82603710e-08   3.96991662e-10   3.33709761e-11   1.04778204e-14\n",
      "    4.18340330e-13   1.05206711e-11   4.34251293e-18   2.09696033e-14\n",
      "    2.02312532e-19   8.21351927e-12   1.17719345e-09   1.04160505e-14\n",
      "    3.73465538e-12   1.16595793e-13   4.53142945e-09   1.37883140e-18\n",
      "    3.46052040e-08   2.38903867e-13   1.31574127e-13   7.60445439e-12\n",
      "    2.07856210e-15   1.63097983e-13   1.32245202e-12   1.40585777e-14\n",
      "    4.84695280e-04   5.30127011e-07   7.67302026e-08]\n",
      " [  3.91307798e-18   7.82563077e-12   4.58453081e-10   8.97454262e-01\n",
      "    1.44448838e-15   1.02399923e-01   3.76354260e-11   2.92417357e-09\n",
      "    2.13140920e-12   8.97183217e-10   1.45159865e-04   6.35915691e-13\n",
      "    3.47362308e-12   7.63913655e-11   3.13006699e-17   1.16224370e-10\n",
      "    1.14602141e-08   7.51692809e-23   4.40078325e-18   2.01641655e-11\n",
      "    7.06335523e-09   4.25117432e-17   7.78228971e-26   6.38055951e-07\n",
      "    2.73716791e-21   3.35212706e-13   4.40272697e-20   1.10089843e-21\n",
      "    1.62702033e-16   5.33298296e-16   1.19773238e-16   2.58452201e-11\n",
      "    2.77121034e-12   1.79258620e-15   1.52533400e-12   3.17709609e-10\n",
      "    1.48833091e-14   2.42607574e-16   8.43392023e-09   5.33365345e-24\n",
      "    5.42199511e-14   2.89141909e-12   2.93849336e-08]\n",
      " [  2.64591684e-15   7.49472762e-10   7.12568351e-08   9.27370310e-01\n",
      "    4.02586861e-12   6.76702484e-02   1.20323968e-11   2.40292525e-06\n",
      "    4.47446347e-09   3.99133023e-06   4.94869472e-03   5.19526713e-11\n",
      "    1.91139793e-09   8.18067605e-08   1.40858611e-13   1.63044683e-06\n",
      "    1.50110009e-06   1.14649020e-17   1.66077602e-15   7.79635023e-09\n",
      "    3.20201075e-08   1.37420101e-14   3.36244739e-21   5.73320165e-07\n",
      "    4.69819149e-18   5.37143767e-12   8.38074568e-16   7.19472350e-18\n",
      "    2.36086460e-13   5.65736260e-13   1.02229768e-13   5.83735352e-11\n",
      "    1.63881020e-10   6.73015810e-10   2.39756159e-10   2.34935413e-07\n",
      "    1.50403312e-12   4.14994991e-12   3.52707730e-09   9.87251063e-18\n",
      "    5.37113340e-11   5.38862843e-11   1.74792092e-07]]\n",
      "TopKV2(values=<tf.Tensor 'TopKV2_2:0' shape=(5, 5) dtype=float32>, indices=<tf.Tensor 'TopKV2_2:1' shape=(5, 5) dtype=int32>)\n"
     ]
    }
   ],
   "source": [
    "### Print out the top five softmax probabilities for the predictions on the German traffic sign images found on the web. \n",
    "### Feel free to use as many code cells as needed.\n",
    "top5softmax = tf.nn.softmax(logits)\n",
    "\n",
    "def process_top_5_prob(X_data):\n",
    "    sess = tf.get_default_session()\n",
    "    softmaxresult = sess.run(top5softmax, feed_dict={x: X_data, keep_prob: 1.0})\n",
    "    print(softmaxresult)\n",
    "    return tf.nn.top_k(tf.constant(softmaxresult), k=5)\n",
    "\n",
    "with tf.Session() as sess:\n",
    "    saver.restore(sess, tf.train.latest_checkpoint('.'))\n",
    "    top5prob = process_top_5_prob(X_test_normal)\n",
    "    print(top5prob)\n"
   ]
  },
  {
   "cell_type": "markdown",
   "metadata": {},
   "source": [
    "### Project Writeup\n",
    "\n",
    "Once you have completed the code implementation, document your results in a project writeup using this [template](https://github.com/udacity/CarND-Traffic-Sign-Classifier-Project/blob/master/writeup_template.md) as a guide. The writeup can be in a markdown or pdf file. "
   ]
  },
  {
   "cell_type": "markdown",
   "metadata": {},
   "source": [
    "> **Note**: Once you have completed all of the code implementations and successfully answered each question above, you may finalize your work by exporting the iPython Notebook as an HTML document. You can do this by using the menu above and navigating to  \\n\",\n",
    "    \"**File -> Download as -> HTML (.html)**. Include the finished document along with this notebook as your submission."
   ]
  },
  {
   "cell_type": "markdown",
   "metadata": {},
   "source": [
    "---\n",
    "\n",
    "## Step 4 (Optional): Visualize the Neural Network's State with Test Images\n",
    "\n",
    " This Section is not required to complete but acts as an additional excersise for understaning the output of a neural network's weights. While neural networks can be a great learning device they are often referred to as a black box. We can understand what the weights of a neural network look like better by plotting their feature maps. After successfully training your neural network you can see what it's feature maps look like by plotting the output of the network's weight layers in response to a test stimuli image. From these plotted feature maps, it's possible to see what characteristics of an image the network finds interesting. For a sign, maybe the inner network feature maps react with high activation to the sign's boundary outline or to the contrast in the sign's painted symbol.\n",
    "\n",
    " Provided for you below is the function code that allows you to get the visualization output of any tensorflow weight layer you want. The inputs to the function should be a stimuli image, one used during training or a new one you provided, and then the tensorflow variable name that represents the layer's state during the training process, for instance if you wanted to see what the [LeNet lab's](https://classroom.udacity.com/nanodegrees/nd013/parts/fbf77062-5703-404e-b60c-95b78b2f3f9e/modules/6df7ae49-c61c-4bb2-a23e-6527e69209ec/lessons/601ae704-1035-4287-8b11-e2c2716217ad/concepts/d4aca031-508f-4e0b-b493-e7b706120f81) feature maps looked like for it's second convolutional layer you could enter conv2 as the tf_activation variable.\n",
    "\n",
    "For an example of what feature map outputs look like, check out NVIDIA's results in their paper [End-to-End Deep Learning for Self-Driving Cars](https://devblogs.nvidia.com/parallelforall/deep-learning-self-driving-cars/) in the section Visualization of internal CNN State. NVIDIA was able to show that their network's inner weights had high activations to road boundary lines by comparing feature maps from an image with a clear path to one without. Try experimenting with a similar test to show that your trained network's weights are looking for interesting features, whether it's looking at differences in feature maps from images with or without a sign, or even what feature maps look like in a trained network vs a completely untrained one on the same sign image.\n",
    "\n",
    "<figure>\n",
    " <img src=\"visualize_cnn.png\" width=\"380\" alt=\"Combined Image\" />\n",
    " <figcaption>\n",
    " <p></p> \n",
    " <p style=\"text-align: center;\"> Your output should look something like this (above)</p> \n",
    " </figcaption>\n",
    "</figure>\n",
    " <p></p> \n"
   ]
  },
  {
   "cell_type": "code",
   "execution_count": 11,
   "metadata": {},
   "outputs": [],
   "source": [
    "### Visualize your network's feature maps here.\n",
    "### Feel free to use as many code cells as needed.\n",
    "\n",
    "# image_input: the test image being fed into the network to produce the feature maps\n",
    "# tf_activation: should be a tf variable name used during your training procedure that represents the calculated state of a specific weight layer\n",
    "# activation_min/max: can be used to view the activation contrast in more detail, by default matplot sets min and max to the actual min and max values of the output\n",
    "# plt_num: used to plot out multiple different weight feature map sets on the same block, just extend the plt number for each new feature map entry\n",
    "\n",
    "def outputFeatureMap(image_input, tf_activation, activation_min=-1, activation_max=-1 ,plt_num=1):\n",
    "    # Here make sure to preprocess your image_input in a way your network expects\n",
    "    # with size, normalization, ect if needed\n",
    "    # image_input =\n",
    "    # Note: x should be the same name as your network's tensorflow data placeholder variable\n",
    "    # If you get an error tf_activation is not defined it may be having trouble accessing the variable from inside a function\n",
    "    activation = tf_activation.eval(session=sess,feed_dict={x : image_input})\n",
    "    featuremaps = activation.shape[3]\n",
    "    plt.figure(plt_num, figsize=(15,15))\n",
    "    for featuremap in range(featuremaps):\n",
    "        plt.subplot(6,8, featuremap+1) # sets the number of feature maps to show on each row and column\n",
    "        plt.title('FeatureMap ' + str(featuremap)) # displays the feature map number\n",
    "        if activation_min != -1 & activation_max != -1:\n",
    "            plt.imshow(activation[0,:,:, featuremap], interpolation=\"nearest\", vmin =activation_min, vmax=activation_max, cmap=\"gray\")\n",
    "        elif activation_max != -1:\n",
    "            plt.imshow(activation[0,:,:, featuremap], interpolation=\"nearest\", vmax=activation_max, cmap=\"gray\")\n",
    "        elif activation_min !=-1:\n",
    "            plt.imshow(activation[0,:,:, featuremap], interpolation=\"nearest\", vmin=activation_min, cmap=\"gray\")\n",
    "        else:\n",
    "            plt.imshow(activation[0,:,:, featuremap], interpolation=\"nearest\", cmap=\"gray\")"
   ]
  }
 ],
 "metadata": {
  "anaconda-cloud": {},
  "kernelspec": {
   "display_name": "Python 3",
   "language": "python",
   "name": "python3"
  },
  "language_info": {
   "codemirror_mode": {
    "name": "ipython",
    "version": 3
   },
   "file_extension": ".py",
   "mimetype": "text/x-python",
   "name": "python",
   "nbconvert_exporter": "python",
   "pygments_lexer": "ipython3",
   "version": "3.5.2"
  },
  "widgets": {
   "state": {},
   "version": "1.1.2"
  }
 },
 "nbformat": 4,
 "nbformat_minor": 1
}
